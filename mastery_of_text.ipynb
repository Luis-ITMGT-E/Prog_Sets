{
  "nbformat": 4,
  "nbformat_minor": 0,
  "metadata": {
    "colab": {
      "provenance": []
    },
    "kernelspec": {
      "name": "python3",
      "display_name": "Python 3"
    },
    "language_info": {
      "name": "python"
    }
  },
  "cells": [
    {
      "cell_type": "code",
      "execution_count": 37,
      "metadata": {
        "id": "Kh-JnMGSXF1X",
        "colab": {
          "base_uri": "https://localhost:8080/"
        },
        "outputId": "e5f9671e-02bd-44f4-c8c5-ccb8ec34e6ce"
      },
      "outputs": [
        {
          "output_type": "stream",
          "name": "stdout",
          "text": [
            "How many lines does the string have? Answer: 99968\n"
          ]
        }
      ],
      "source": [
        "import urllib.request\n",
        "\n",
        "url = \"https://www.gutenberg.org/cache/epub/10/pg10.txt\"\n",
        "response = urllib.request.urlopen(url)\n",
        "pg10 = response.read().decode('utf-8')\n",
        "\n",
        "line_count = len(pg10.splitlines())\n",
        "print(\"How many lines does the string have? Answer:\", line_count)"
      ]
    },
    {
      "cell_type": "code",
      "source": [
        "words = pg10.split()\n",
        "alpha_words = []\n",
        "\n",
        "for word in words:\n",
        "    cleaned = \"\"\n",
        "    for char in word:\n",
        "        if char.isalpha():\n",
        "            cleaned += char\n",
        "        else:\n",
        "            if cleaned:\n",
        "                alpha_words.append(cleaned)\n",
        "                cleaned = \"\"\n",
        "    if cleaned:\n",
        "        alpha_words.append(cleaned)\n",
        "\n",
        "word_count = len(alpha_words)\n",
        "print(\"How many words does the string have? Answer:\", word_count)"
      ],
      "metadata": {
        "colab": {
          "base_uri": "https://localhost:8080/"
        },
        "id": "QImb7ytto7c-",
        "outputId": "569f6027-ad45-48e0-dc5b-1d177d1f8b2b"
      },
      "execution_count": 38,
      "outputs": [
        {
          "output_type": "stream",
          "name": "stdout",
          "text": [
            "How many words does the string have? Answer: 795227\n"
          ]
        }
      ]
    },
    {
      "cell_type": "code",
      "metadata": {
        "colab": {
          "base_uri": "https://localhost:8080/"
        },
        "id": "af2abb76",
        "outputId": "934ff6fc-b19d-4048-b8b1-c8bee7d3c686"
      },
      "source": [
        "words = []\n",
        "current_word = \"\"\n",
        "\n",
        "for char in pg10:\n",
        "    if char.isalpha():\n",
        "        current_word += char\n",
        "    else:\n",
        "        if current_word:\n",
        "            words.append(current_word.lower())\n",
        "            current_word = \"\"\n",
        "if current_word:\n",
        "    words.append(current_word.lower())\n",
        "\n",
        "apostle_count = len(list(filter(lambda w: w == \"apostle\", words)))\n",
        "print('How many times does the word \"apostle\", ignoring capitalization, appear in the string?\":', apostle_count)"
      ],
      "execution_count": 39,
      "outputs": [
        {
          "output_type": "stream",
          "name": "stdout",
          "text": [
            "How many times does the word \"apostle\", ignoring capitalization, appear in the string?\": 47\n"
          ]
        }
      ]
    },
    {
      "cell_type": "code",
      "source": [
        "words = []\n",
        "current_word = \"\"\n",
        "\n",
        "for char in pg10:\n",
        "    if char.isalpha():\n",
        "        current_word += char\n",
        "    else:\n",
        "        if current_word:\n",
        "            words.append(current_word.lower())\n",
        "            current_word = \"\"\n",
        "if current_word:\n",
        "    words.append(current_word.lower())\n",
        "\n",
        "word_freq = {}\n",
        "\n",
        "for word in words:\n",
        "    if word in word_freq:\n",
        "        word_freq[word] += 1\n",
        "    else:\n",
        "        word_freq[word] = 1\n",
        "\n",
        "most_common_word = None\n",
        "max_count = 0\n",
        "\n",
        "for word, count in word_freq.items():\n",
        "    if count > max_count:\n",
        "        most_common_word = word\n",
        "        max_count = count\n",
        "\n",
        "print(\"What is the most common word, ignoring capitalization, in the string? Answer:\", most_common_word)\n",
        "print(\"How many times does the word appear? Answer:\", max_count)"
      ],
      "metadata": {
        "colab": {
          "base_uri": "https://localhost:8080/"
        },
        "id": "OSgzuTGJrD2k",
        "outputId": "80020359-0980-406a-f351-fb1103ff891d"
      },
      "execution_count": 42,
      "outputs": [
        {
          "output_type": "stream",
          "name": "stdout",
          "text": [
            "What is the most common word, ignoring capitalization, in the string? Answer: the\n",
            "How many times does the word appear? Answer: 64309\n"
          ]
        }
      ]
    }
  ]
}
